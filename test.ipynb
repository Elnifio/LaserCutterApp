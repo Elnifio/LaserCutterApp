{
 "cells": [
  {
   "cell_type": "code",
   "execution_count": 17,
   "metadata": {},
   "outputs": [],
   "source": [
    "import matplotlib.pyplot as plt\n",
    "import matplotlib as mpl\n",
    "import numpy as np\n",
    "import os\n",
    "# Scale: Centimeter\n",
    "depth=3\n",
    "thickness=0.3"
   ]
  },
  {
   "cell_type": "markdown",
   "metadata": {},
   "source": [
    "Ellipsoid formula:\n",
    "$$\n",
    "\\frac{x^2}{a^2}+\\frac{y^2}{b^2}+\\frac{z^2}{c^2} = 1\n",
    "$$\n",
    "Transform (upper half):\n",
    "$$\n",
    "z=c\\sqrt{1-\\frac{x^2}{a^2}-\\frac{y^2}{b^2}}\n",
    "$$\n",
    "\n",
    "Given $a_1, a_2, h_1, h_2, b$, we have: \n",
    "$$\n",
    "z=h_1\\sqrt{1-\\frac{x^2}{a_1^2}-\\frac{y^2}{b^2\\frac{a_1^2}{a_1^2-a_2^2}}}=h_1\\sqrt{1-\\frac{x^2}{a_1^2}-\\frac{y^2(a_1^2-a_2^2)}{b^2a_1^2}}\n",
    "$$"
   ]
  },
  {
   "cell_type": "code",
   "execution_count": 34,
   "metadata": {},
   "outputs": [],
   "source": [
    "def calc_polynomial(a, b, c, d, e, f, x, y):\n",
    "    return a * (x**2) + b * x + c * (y**2) + d * y + e * x * y + f\n",
    "\n",
    "def calc_ellipsoid(a, b, c, x, y):\n",
    "    return c * (1-((x**2)/(a**2))-((y**2)/(b**2)))**0.5\n",
    "\n",
    "def calc_ellipse(a, b, y):\n",
    "    return a * (1-((y**2)/(b**2)))**0.5"
   ]
  },
  {
   "cell_type": "code",
   "execution_count": 43,
   "metadata": {},
   "outputs": [],
   "source": [
    "def ellipsoid(a1, a2, h1, h2, b1, thickness=3, depth=3, precision=10000, store_path=\"plot\"):\n",
    "    if not store_path in os.listdir(\".\"): \n",
    "        os.mkdir(\"./\"+store_path)\n",
    "    \n",
    "    # Find the formula coefficients:\n",
    "    # x^2 / a^2 + y^2 / b^2 + z^2 / c^2 = 1\n",
    "    a = a1\n",
    "    b = (b1**2 * ((a1**2)/(a1**2 - a2**2)))**0.5\n",
    "    c = h1\n",
    "    # Find the ellipse in x-y plane\n",
    "    # x^2 / a^2 + y^2 / b^2 = 1\n",
    "    y = -b1+ thickness/2\n",
    "    counter = 1\n",
    "    \n",
    "    # This example fits a4 paper with 5mm margin printers\n",
    "\n",
    "    # figure settings\n",
    "    figure_width = 2 * a1 + 1 # cm\n",
    "    figure_height = thickness + h1 + 1 # cm\n",
    "    left_right_magrin = 1 # cm\n",
    "    top_bottom_margin = 1 # cm\n",
    "\n",
    "    # Don't change\n",
    "    left   = left_right_magrin / figure_width # Percentage from height\n",
    "    bottom = top_bottom_margin / figure_height # Percentage from height\n",
    "    width  = 1 - left*2\n",
    "    height = 1 - bottom*2\n",
    "    cm2inch = 1/2.54 # inch per cm\n",
    "    \n",
    "    # Grid settings\n",
    "    # ax.grid(color=\"gray\", which=\"both\", linestyle=':', linewidth=0.5)\n",
    "\n",
    "    # your Plot (consider above limits)\n",
    "\n",
    "\n",
    "    # # save figure ( printing png file had better resolution, pdf was lighter and better on screen)\n",
    "    # fig.savefig('A4_grid_cm.png', dpi=1000)\n",
    "    # fig.savefig('tA4_grid_cm.pdf')\n",
    "    \n",
    "    while y < b1:\n",
    "        # ------\n",
    "        # Calculate points to be plotted\n",
    "        # start point for x is calculated by the ellipse in x-y plane\n",
    "        start_x = int(calc_ellipse(a, b, y))\n",
    "        # end point for x is calculated by inverting the start point\n",
    "        end_x = -start_x\n",
    "        # Formulate x-series\n",
    "        x_series = np.arange(start=end_x, stop=start_x, step=1/precision)\n",
    "        # Formulate z_series\n",
    "        z_series = np.asarray([calc_ellipsoid(a, b, c, x, y) for x in x_series])\n",
    "        \n",
    "        # --------\n",
    "        # Plot points\n",
    "        # Plot z-series (Upper bound)\n",
    "        # specifying the width and the height of the box in inches\n",
    "        fig = plt.figure(figsize=(figure_width*cm2inch,figure_height*cm2inch))\n",
    "        ax = fig.add_axes((left, bottom, width, height))\n",
    "\n",
    "        # limits settings (important)\n",
    "        plt.xlim(-figure_width * width, figure_width * width)\n",
    "        plt.ylim(-figure_height * height, figure_height * height)\n",
    "\n",
    "        # Ticks settings\n",
    "        ax.xaxis.set_major_locator(mpl.ticker.MultipleLocator(5))\n",
    "        ax.xaxis.set_minor_locator(mpl.ticker.MultipleLocator(1))\n",
    "        ax.yaxis.set_major_locator(mpl.ticker.MultipleLocator(5))\n",
    "        ax.yaxis.set_minor_locator(mpl.ticker.MultipleLocator(1))\n",
    "        ax.plot(x_series, z_series, \"r\")\n",
    "        \n",
    "        # Plot two vertical lines at each end\n",
    "        ax.plot([end_x, end_x], [z_series[0], z_series[0]-depth], \"r\")\n",
    "        ax.plot([start_x, start_x], [z_series[-1], z_series[-1]-depth], \"r\")\n",
    "        # Plot lower bound\n",
    "        ax.plot(x_series, z_series-depth, \"r\")\n",
    "        \n",
    "        # Add a \n",
    "        \n",
    "        \n",
    "        # --------\n",
    "        # Save figure\n",
    "        fig.savefig(\"./%s/fig-%s-%.1f.svg\" % (store_path, counter, y), format=\"svg\", transparent=True)\n",
    "        fig.show()\n",
    "        plt.close()\n",
    "        \n",
    "        # --------\n",
    "        # Increment y\n",
    "        y += thickness\n",
    "        # round y\n",
    "        y = float(\"%.3f\" % y)\n",
    "        counter += 1\n",
    "        print(counter, \": plotting for y =\", y)"
   ]
  },
  {
   "cell_type": "code",
   "execution_count": 46,
   "metadata": {},
   "outputs": [
    {
     "name": "stderr",
     "output_type": "stream",
     "text": [
      "/Library/Frameworks/Python.framework/Versions/3.7/lib/python3.7/site-packages/ipykernel_launcher.py:82: UserWarning: Matplotlib is currently using module://ipykernel.pylab.backend_inline, which is a non-GUI backend, so cannot show the figure.\n"
     ]
    },
    {
     "name": "stdout",
     "output_type": "stream",
     "text": [
      "2 : plotting for y = -1.55\n",
      "3 : plotting for y = -1.25\n",
      "4 : plotting for y = -0.95\n",
      "5 : plotting for y = -0.65\n",
      "6 : plotting for y = -0.35\n",
      "7 : plotting for y = -0.05\n",
      "8 : plotting for y = 0.25\n",
      "9 : plotting for y = 0.55\n",
      "10 : plotting for y = 0.85\n",
      "11 : plotting for y = 1.15\n",
      "12 : plotting for y = 1.45\n",
      "13 : plotting for y = 1.75\n",
      "14 : plotting for y = 2.05\n"
     ]
    }
   ],
   "source": [
    "a1 = 12.5\n",
    "a2 = 10\n",
    "h1 = 7.5\n",
    "h2 = 7\n",
    "b1 = 2\n",
    "thickness = 0.3\n",
    "depth = 3\n",
    "precision = 10000\n",
    "ellipsoid(a1, a2, h1, h2, b1, thickness=thickness, depth=depth, precision=precision)"
   ]
  },
  {
   "cell_type": "code",
   "execution_count": 34,
   "metadata": {},
   "outputs": [],
   "source": [
    "# @param: \n",
    "#     a, b, c, d, e, f: parameter for the equation z=ax^2 + bx + cy^2 +dy + exy + f\n",
    "#     start: a tuple of (x, y) for starting position, closest to (0, 0)\n",
    "#     width: width of the structure, in y-direction\n",
    "#     length: length of the structure, in x-direction\n",
    "#     depth: depth of the structure, in z-direction, default to 3 cm\n",
    "#     thickness: thickness of the material, default to 0.3 cm\n",
    "def surface(a, b, c, d, e, f, start, width, length, depth=3, thickness=0.3, precision=10000):\n",
    "    # z = ax^2 + bx + cy^2 + dy + exy + f\n",
    "    cur_pos = [start[0]+thickness/2, start[1]]\n",
    "    while cur_pos[0] - start[0] < length: \n",
    "        # Generate y-series\n",
    "        # Approximates better for a higher precision in x\n",
    "        y_series = [cur_pos[1]+x/precision for x in range((width+1)*precision)]\n",
    "        # Generate z-series\n",
    "        z_series = [calc_polynomial(a, b, c, d, e, f, cur_pos[0], y) for y in y_series]\n",
    "        \n",
    "        # Plot y-z series (upper boundary)\n",
    "        plt.plot(y_series, z_series)\n",
    "        \n",
    "        # Generate Start & End points\n",
    "        start_point = (cur_pos[0], y_series[0], z_series[0])\n",
    "        end_point = (cur_pos[0], y_series[-1], z_series[-1])\n",
    "        # Plot the two edges\n",
    "        plt.plot([y_series[0], y_series[0]], [z_series[0], z_series[0]-depth])\n",
    "        plt.plot([y_series[-1], y_series[-1]], [z_series[-1], z_series[-1]-depth])\n",
    "        \n",
    "        # Plot lower boundary\n",
    "        plt.plot(y_series, [z-depth for z in z_series])\n",
    "        \n",
    "        plt.show()\n",
    "        # Increment x-position\n",
    "        cur_pos[0] += thickness\n",
    "        # rounding\n",
    "        cur_pos[0] =  float(\"%.3f\" % cur_pos[0])\n",
    "        cur_pos[1] =  float(\"%.3f\" % cur_pos[1])\n",
    "        \n",
    "    "
   ]
  },
  {
   "cell_type": "code",
   "execution_count": 61,
   "metadata": {},
   "outputs": [
    {
     "data": {
      "image/png": "[encoded data removed]",
      "text/plain": [
       "<Figure size 432x288 with 1 Axes>"
      ]
     },
     "metadata": {
      "needs_background": "light"
     },
     "output_type": "display_data"
    },
    {
     "data": {
      "image/png": "[encoded data removed]",
      "text/plain": [
       "<Figure size 432x288 with 1 Axes>"
      ]
     },
     "metadata": {
      "needs_background": "light"
     },
     "output_type": "display_data"
    },
    {
     "data": {
      "image/png": "[encoded data removed]",
      "text/plain": [
       "<Figure size 432x288 with 1 Axes>"
      ]
     },
     "metadata": {
      "needs_background": "light"
     },
     "output_type": "display_data"
    }
   ],
   "source": [
    "a = 3\n",
    "b = 4\n",
    "c = 5\n",
    "d = 6\n",
    "e = 7\n",
    "f = 1\n",
    "start = (-1, -1)\n",
    "width = 1\n",
    "length = 1\n",
    "surface(a, b, c, d, e, f, start, width, length)"
   ]
  },
  {
   "cell_type": "code",
   "execution_count": 64,
   "metadata": {},
   "outputs": [
    {
     "data": {
      "text/plain": [
       "0.10063772619448036"
      ]
     },
     "execution_count": 64,
     "metadata": {},
     "output_type": "execute_result"
    }
   ],
   "source": [
    "a = 12.5\n",
    "b = 16.666668\n",
    "c = 7.5\n",
    "x = 5.18\n",
    "y = -16.6666 + 1.5\n",
    "calc_ellipsoid(a, b, c, x, y)"
   ]
  },
  {
   "cell_type": "code",
   "execution_count": 88,
   "metadata": {},
   "outputs": [
    {
     "name": "stdout",
     "output_type": "stream",
     "text": [
      "[ 0  1  2  3  4  5  6  7  8  9 10 11 12 13 14 15 16 17 18 19 20 21 22 23\n",
      " 24 25 26 27 28 29 30 31 32 33 34 35 36 37 38 39 40 41 42 43 44 45 46 47\n",
      " 48 49 50 51 52 53 54 55 56 57 58 59 60 61 62 63 64 65 66 67 68 69 70 71\n",
      " 72 73 74 75 76 77 78 79 80 81 82 83 84 85 86 87 88 89 90 91 92 93 94 95\n",
      " 96 97 98 99] 0 0\n"
     ]
    },
    {
     "ename": "TypeError",
     "evalue": "only size-1 arrays can be converted to Python scalars",
     "output_type": "error",
     "traceback": [
      "\u001b[0;31m---------------------------------------------------------------------------\u001b[0m",
      "\u001b[0;31mTypeError\u001b[0m                                 Traceback (most recent call last)",
      "\u001b[0;32m<ipython-input-88-3ec15155f56b>\u001b[0m in \u001b[0;36m<module>\u001b[0;34m\u001b[0m\n\u001b[1;32m      3\u001b[0m     \u001b[0mprint\u001b[0m\u001b[0;34m(\u001b[0m\u001b[0mx\u001b[0m\u001b[0;34m,\u001b[0m \u001b[0my\u001b[0m\u001b[0;34m,\u001b[0m \u001b[0mz\u001b[0m\u001b[0;34m)\u001b[0m\u001b[0;34m\u001b[0m\u001b[0;34m\u001b[0m\u001b[0m\n\u001b[1;32m      4\u001b[0m     \u001b[0;32mreturn\u001b[0m \u001b[0mstr\u001b[0m\u001b[0;34m(\u001b[0m\u001b[0mint\u001b[0m\u001b[0;34m(\u001b[0m\u001b[0mx\u001b[0m\u001b[0;34m%\u001b[0m\u001b[0;36m2\u001b[0m \u001b[0;34m==\u001b[0m \u001b[0;36m0\u001b[0m\u001b[0;34m)\u001b[0m\u001b[0;34m)\u001b[0m\u001b[0;34m+\u001b[0m\u001b[0mstr\u001b[0m\u001b[0;34m(\u001b[0m\u001b[0my\u001b[0m\u001b[0;34m)\u001b[0m\u001b[0;34m+\u001b[0m\u001b[0mstr\u001b[0m\u001b[0;34m(\u001b[0m\u001b[0mz\u001b[0m\u001b[0;34m)\u001b[0m\u001b[0;34m\u001b[0m\u001b[0;34m\u001b[0m\u001b[0m\n\u001b[0;32m----> 5\u001b[0;31m \u001b[0mnp\u001b[0m\u001b[0;34m.\u001b[0m\u001b[0mapply_along_axis\u001b[0m\u001b[0;34m(\u001b[0m\u001b[0mf\u001b[0m\u001b[0;34m,\u001b[0m \u001b[0;36m0\u001b[0m\u001b[0;34m,\u001b[0m \u001b[0mxs\u001b[0m\u001b[0;34m,\u001b[0m \u001b[0my\u001b[0m\u001b[0;34m=\u001b[0m\u001b[0;36m0\u001b[0m\u001b[0;34m,\u001b[0m \u001b[0mz\u001b[0m\u001b[0;34m=\u001b[0m\u001b[0;36m0\u001b[0m\u001b[0;34m)\u001b[0m\u001b[0;34m\u001b[0m\u001b[0;34m\u001b[0m\u001b[0m\n\u001b[0m",
      "\u001b[0;32m<__array_function__ internals>\u001b[0m in \u001b[0;36mapply_along_axis\u001b[0;34m(*args, **kwargs)\u001b[0m\n",
      "\u001b[0;32m/Library/Frameworks/Python.framework/Versions/3.7/lib/python3.7/site-packages/numpy/lib/shape_base.py\u001b[0m in \u001b[0;36mapply_along_axis\u001b[0;34m(func1d, axis, arr, *args, **kwargs)\u001b[0m\n\u001b[1;32m    377\u001b[0m     \u001b[0;32mexcept\u001b[0m \u001b[0mStopIteration\u001b[0m\u001b[0;34m:\u001b[0m\u001b[0;34m\u001b[0m\u001b[0;34m\u001b[0m\u001b[0m\n\u001b[1;32m    378\u001b[0m         \u001b[0;32mraise\u001b[0m \u001b[0mValueError\u001b[0m\u001b[0;34m(\u001b[0m\u001b[0;34m'Cannot apply_along_axis when any iteration dimensions are 0'\u001b[0m\u001b[0;34m)\u001b[0m\u001b[0;34m\u001b[0m\u001b[0;34m\u001b[0m\u001b[0m\n\u001b[0;32m--> 379\u001b[0;31m     \u001b[0mres\u001b[0m \u001b[0;34m=\u001b[0m \u001b[0masanyarray\u001b[0m\u001b[0;34m(\u001b[0m\u001b[0mfunc1d\u001b[0m\u001b[0;34m(\u001b[0m\u001b[0minarr_view\u001b[0m\u001b[0;34m[\u001b[0m\u001b[0mind0\u001b[0m\u001b[0;34m]\u001b[0m\u001b[0;34m,\u001b[0m \u001b[0;34m*\u001b[0m\u001b[0margs\u001b[0m\u001b[0;34m,\u001b[0m \u001b[0;34m**\u001b[0m\u001b[0mkwargs\u001b[0m\u001b[0;34m)\u001b[0m\u001b[0;34m)\u001b[0m\u001b[0;34m\u001b[0m\u001b[0;34m\u001b[0m\u001b[0m\n\u001b[0m\u001b[1;32m    380\u001b[0m \u001b[0;34m\u001b[0m\u001b[0m\n\u001b[1;32m    381\u001b[0m     \u001b[0;31m# build a buffer for storing evaluations of func1d.\u001b[0m\u001b[0;34m\u001b[0m\u001b[0;34m\u001b[0m\u001b[0;34m\u001b[0m\u001b[0m\n",
      "\u001b[0;32m<ipython-input-88-3ec15155f56b>\u001b[0m in \u001b[0;36mf\u001b[0;34m(x, y, z)\u001b[0m\n\u001b[1;32m      2\u001b[0m \u001b[0;32mdef\u001b[0m \u001b[0mf\u001b[0m\u001b[0;34m(\u001b[0m\u001b[0mx\u001b[0m\u001b[0;34m,\u001b[0m \u001b[0my\u001b[0m\u001b[0;34m,\u001b[0m \u001b[0mz\u001b[0m\u001b[0;34m)\u001b[0m\u001b[0;34m:\u001b[0m\u001b[0;34m\u001b[0m\u001b[0;34m\u001b[0m\u001b[0m\n\u001b[1;32m      3\u001b[0m     \u001b[0mprint\u001b[0m\u001b[0;34m(\u001b[0m\u001b[0mx\u001b[0m\u001b[0;34m,\u001b[0m \u001b[0my\u001b[0m\u001b[0;34m,\u001b[0m \u001b[0mz\u001b[0m\u001b[0;34m)\u001b[0m\u001b[0;34m\u001b[0m\u001b[0;34m\u001b[0m\u001b[0m\n\u001b[0;32m----> 4\u001b[0;31m     \u001b[0;32mreturn\u001b[0m \u001b[0mstr\u001b[0m\u001b[0;34m(\u001b[0m\u001b[0mint\u001b[0m\u001b[0;34m(\u001b[0m\u001b[0mx\u001b[0m\u001b[0;34m%\u001b[0m\u001b[0;36m2\u001b[0m \u001b[0;34m==\u001b[0m \u001b[0;36m0\u001b[0m\u001b[0;34m)\u001b[0m\u001b[0;34m)\u001b[0m\u001b[0;34m+\u001b[0m\u001b[0mstr\u001b[0m\u001b[0;34m(\u001b[0m\u001b[0my\u001b[0m\u001b[0;34m)\u001b[0m\u001b[0;34m+\u001b[0m\u001b[0mstr\u001b[0m\u001b[0;34m(\u001b[0m\u001b[0mz\u001b[0m\u001b[0;34m)\u001b[0m\u001b[0;34m\u001b[0m\u001b[0;34m\u001b[0m\u001b[0m\n\u001b[0m\u001b[1;32m      5\u001b[0m \u001b[0mnp\u001b[0m\u001b[0;34m.\u001b[0m\u001b[0mapply_along_axis\u001b[0m\u001b[0;34m(\u001b[0m\u001b[0mf\u001b[0m\u001b[0;34m,\u001b[0m \u001b[0;36m0\u001b[0m\u001b[0;34m,\u001b[0m \u001b[0mxs\u001b[0m\u001b[0;34m,\u001b[0m \u001b[0my\u001b[0m\u001b[0;34m=\u001b[0m\u001b[0;36m0\u001b[0m\u001b[0;34m,\u001b[0m \u001b[0mz\u001b[0m\u001b[0;34m=\u001b[0m\u001b[0;36m0\u001b[0m\u001b[0;34m)\u001b[0m\u001b[0;34m\u001b[0m\u001b[0;34m\u001b[0m\u001b[0m\n",
      "\u001b[0;31mTypeError\u001b[0m: only size-1 arrays can be converted to Python scalars"
     ]
    }
   ],
   "source": []
  },
  {
   "cell_type": "code",
   "execution_count": 93,
   "metadata": {},
   "outputs": [
    {
     "data": {
      "text/plain": [
       "True"
      ]
     },
     "execution_count": 93,
     "metadata": {},
     "output_type": "execute_result"
    }
   ],
   "source": [
    "\"eclipse\" in os.listdir(\".\")"
   ]
  },
  {
   "cell_type": "code",
   "execution_count": null,
   "metadata": {},
   "outputs": [],
   "source": []
  }
 ],
 "metadata": {
  "kernelspec": {
   "display_name": "Python 3",
   "language": "python",
   "name": "python3"
  },
  "language_info": {
   "codemirror_mode": {
    "name": "ipython",
    "version": 3
   },
   "file_extension": ".py",
   "mimetype": "text/x-python",
   "name": "python",
   "nbconvert_exporter": "python",
   "pygments_lexer": "ipython3",
   "version": "3.7.4"
  }
 },
 "nbformat": 4,
 "nbformat_minor": 4
}
